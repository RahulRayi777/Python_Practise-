{
  "nbformat": 4,
  "nbformat_minor": 0,
  "metadata": {
    "colab": {
      "provenance": []
    },
    "kernelspec": {
      "name": "python3",
      "display_name": "Python 3"
    },
    "language_info": {
      "name": "python"
    }
  },
  "cells": [
    {
      "cell_type": "code",
      "execution_count": 1,
      "metadata": {
        "colab": {
          "base_uri": "https://localhost:8080/"
        },
        "id": "elhCHhx7n9Cj",
        "outputId": "650b48fe-db6c-42bd-d2d8-96fc0e3e925d"
      },
      "outputs": [
        {
          "output_type": "stream",
          "name": "stdout",
          "text": [
            "4\n",
            "****\n",
            "****\n",
            "****\n",
            "****\n"
          ]
        }
      ],
      "source": [
        "n=int(input())\n",
        "for i in range(1,n+1):\n",
        "  print('*'*n)"
      ]
    },
    {
      "cell_type": "code",
      "source": [
        "n=5\n",
        "for i in range(1,n+1):\n",
        "  if i==n:\n",
        "    print('*'*n)\n",
        "  else:\n",
        "    print('*')"
      ],
      "metadata": {
        "colab": {
          "base_uri": "https://localhost:8080/"
        },
        "id": "iiwVXsnPoJOS",
        "outputId": "dad24e9f-0dad-431b-c106-a4d961de642a"
      },
      "execution_count": 2,
      "outputs": [
        {
          "output_type": "stream",
          "name": "stdout",
          "text": [
            "*\n",
            "*\n",
            "*\n",
            "*\n",
            "*****\n"
          ]
        }
      ]
    },
    {
      "cell_type": "code",
      "source": [
        "n=5\n",
        "for i in range(n,0,-1):\n",
        "  print('*'*i)"
      ],
      "metadata": {
        "colab": {
          "base_uri": "https://localhost:8080/"
        },
        "id": "bpw1YLAOo_R5",
        "outputId": "c6ef790a-948c-4466-8783-0a710544a8a1"
      },
      "execution_count": 7,
      "outputs": [
        {
          "output_type": "stream",
          "name": "stdout",
          "text": [
            "\n",
            "*\n",
            "**\n",
            "***\n",
            "****\n"
          ]
        }
      ]
    },
    {
      "cell_type": "code",
      "source": [
        "n=5\n",
        "for i in range(1,n+1):\n",
        "  for j in range(1,i+1):\n",
        "    print(i,end='')\n",
        "  print()"
      ],
      "metadata": {
        "colab": {
          "base_uri": "https://localhost:8080/"
        },
        "id": "dch6kRtwpY6n",
        "outputId": "9bcd69d5-0994-4d49-b4bb-934c6952e1b1"
      },
      "execution_count": 9,
      "outputs": [
        {
          "output_type": "stream",
          "name": "stdout",
          "text": [
            "1\n",
            "22\n",
            "333\n",
            "4444\n",
            "55555\n"
          ]
        }
      ]
    },
    {
      "cell_type": "code",
      "source": [
        "n=5\n",
        "a=2\n",
        "b=2\n",
        "for i in range(1,n//2+2):\n",
        "  print(' '*(b)+'*'*i)\n",
        "  b=b-1\n",
        "for i in range(1,n//2+1):\n",
        "  print(' '*i+'*'*a)\n",
        "  a=a-1\n"
      ],
      "metadata": {
        "colab": {
          "base_uri": "https://localhost:8080/"
        },
        "id": "NgzZVr04qGUv",
        "outputId": "4f2e6b25-0473-4cbf-d4c2-11f2c03d0fc7"
      },
      "execution_count": 17,
      "outputs": [
        {
          "output_type": "stream",
          "name": "stdout",
          "text": [
            "  *\n",
            " **\n",
            "***\n",
            " **\n",
            "  *\n"
          ]
        }
      ]
    },
    {
      "cell_type": "code",
      "source": [
        "n=5\n",
        "a=2\n",
        "b=1\n",
        "c=3\n",
        "for i in range(1,n//2+2):\n",
        "  print(' '*(a)+'*'*(2*i-1)+' '*(a))\n",
        "  a=a-1\n",
        "for i in range(n//2,0,-1):\n",
        "  print(' '*(b)+'*'*(c)+'')\n",
        "  b=b+1\n",
        "  c=c-2"
      ],
      "metadata": {
        "colab": {
          "base_uri": "https://localhost:8080/"
        },
        "id": "85oYRzuIsKkw",
        "outputId": "9b9bf93f-1138-44e3-fad2-6761e1a55ea6"
      },
      "execution_count": 27,
      "outputs": [
        {
          "output_type": "stream",
          "name": "stdout",
          "text": [
            "  *  \n",
            " *** \n",
            "*****\n",
            " ***\n",
            "  *\n"
          ]
        }
      ]
    },
    {
      "cell_type": "code",
      "source": [],
      "metadata": {
        "id": "zjmtIR1gvnPu"
      },
      "execution_count": null,
      "outputs": []
    }
  ]
}